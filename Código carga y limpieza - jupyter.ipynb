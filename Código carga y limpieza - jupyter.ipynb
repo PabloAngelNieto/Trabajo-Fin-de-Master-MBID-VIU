{
 "cells": [
  {
   "cell_type": "code",
   "execution_count": 1,
   "metadata": {
    "executionInfo": {
     "elapsed": 351,
     "status": "ok",
     "timestamp": 1679688842332,
     "user": {
      "displayName": "Tomás De Aquino",
      "userId": "10180258478006408397"
     },
     "user_tz": -60
    },
    "id": "jX0FYTD3pYMo"
   },
   "outputs": [],
   "source": [
    "import os\n",
    "import pandas as pd\n",
    "import glob\n",
    "import matplotlib.pyplot as plt\n",
    "import numpy as np\n",
    "import seaborn as sns\n",
    "import matplotlib.mlab as mlab\n",
    "import matplotlib\n",
    "plt.style.use('ggplot')\n",
    "from matplotlib.pyplot import figure\n",
    "%matplotlib inline\n",
    "matplotlib.rcParams['figure.figsize'] = (12,8)\n",
    "\n",
    "pd.options.mode.chained_assignment = None"
   ]
  },
  {
   "cell_type": "code",
   "execution_count": 2,
   "metadata": {
    "executionInfo": {
     "elapsed": 802,
     "status": "ok",
     "timestamp": 1679689559410,
     "user": {
      "displayName": "Tomás De Aquino",
      "userId": "10180258478006408397"
     },
     "user_tz": -60
    },
    "id": "WsoYJIsxvDi7"
   },
   "outputs": [],
   "source": [
    "%%capture\n",
    "folder_path = '/Proyecto limpieza de datos/'\n",
    "file_list = glob.glob(\"*.csv\")\n",
    "main_dataframe = pd.DataFrame(pd.read_csv(file_list[0], sep=';'))\n",
    "for i in range(1,len(file_list)):\n",
    "    data = pd.read_csv(file_list[i], sep=';')\n",
    "    df = pd.DataFrame(data)\n",
    "    main_dataframe = pd.concat([main_dataframe, df], axis = 0)\n",
    "print(main_dataframe)"
   ]
  },
  {
   "cell_type": "code",
   "execution_count": 3,
   "metadata": {
    "colab": {
     "base_uri": "https://localhost:8080/",
     "height": 577
    },
    "executionInfo": {
     "elapsed": 234,
     "status": "ok",
     "timestamp": 1679689564920,
     "user": {
      "displayName": "Tomás De Aquino",
      "userId": "10180258478006408397"
     },
     "user_tz": -60
    },
    "id": "gx2H7spUtObZ",
    "outputId": "c95b7729-cae3-426d-f9a9-d7ec61ce2871"
   },
   "outputs": [
    {
     "data": {
      "text/html": [
       "<div>\n",
       "<style scoped>\n",
       "    .dataframe tbody tr th:only-of-type {\n",
       "        vertical-align: middle;\n",
       "    }\n",
       "\n",
       "    .dataframe tbody tr th {\n",
       "        vertical-align: top;\n",
       "    }\n",
       "\n",
       "    .dataframe thead th {\n",
       "        text-align: right;\n",
       "    }\n",
       "</style>\n",
       "<table border=\"1\" class=\"dataframe\">\n",
       "  <thead>\n",
       "    <tr style=\"text-align: right;\">\n",
       "      <th></th>\n",
       "      <th>Issue Key</th>\n",
       "      <th>Issue summary</th>\n",
       "      <th>Hours</th>\n",
       "      <th>Work date</th>\n",
       "      <th>Username</th>\n",
       "      <th>Period</th>\n",
       "      <th>Account Key</th>\n",
       "      <th>Account Name</th>\n",
       "      <th>Account Lead</th>\n",
       "      <th>Account Category</th>\n",
       "      <th>...</th>\n",
       "      <th>Reporter</th>\n",
       "      <th>External Hours</th>\n",
       "      <th>Billed Hours</th>\n",
       "      <th>Issue Original Estimate</th>\n",
       "      <th>Issue Remaining Estimate</th>\n",
       "      <th>Customer Reference</th>\n",
       "      <th>Project-Nr. (billable)</th>\n",
       "      <th>Issue Ttus</th>\n",
       "      <th>Project Name</th>\n",
       "      <th>Full name</th>\n",
       "    </tr>\n",
       "  </thead>\n",
       "  <tbody>\n",
       "    <tr>\n",
       "      <th>0</th>\n",
       "      <td>ENEXSC-612</td>\n",
       "      <td>Meeting Gemalto</td>\n",
       "      <td>4.0</td>\n",
       "      <td>30/01/2019</td>\n",
       "      <td>sebastian</td>\n",
       "      <td>NaN</td>\n",
       "      <td>NaN</td>\n",
       "      <td>NaN</td>\n",
       "      <td>NaN</td>\n",
       "      <td>NaN</td>\n",
       "      <td>...</td>\n",
       "      <td>sebastian</td>\n",
       "      <td>0.0</td>\n",
       "      <td>4.0</td>\n",
       "      <td>NaN</td>\n",
       "      <td>0.0</td>\n",
       "      <td>NaN</td>\n",
       "      <td>NaN</td>\n",
       "      <td>NaN</td>\n",
       "      <td>NaN</td>\n",
       "      <td>NaN</td>\n",
       "    </tr>\n",
       "    <tr>\n",
       "      <th>1</th>\n",
       "      <td>ENEXSC-612</td>\n",
       "      <td>Meeting Gemalto</td>\n",
       "      <td>8.0</td>\n",
       "      <td>31/01/2019</td>\n",
       "      <td>sebastian</td>\n",
       "      <td>NaN</td>\n",
       "      <td>NaN</td>\n",
       "      <td>NaN</td>\n",
       "      <td>NaN</td>\n",
       "      <td>NaN</td>\n",
       "      <td>...</td>\n",
       "      <td>sebastian</td>\n",
       "      <td>0.0</td>\n",
       "      <td>8.0</td>\n",
       "      <td>NaN</td>\n",
       "      <td>0.0</td>\n",
       "      <td>NaN</td>\n",
       "      <td>NaN</td>\n",
       "      <td>NaN</td>\n",
       "      <td>NaN</td>\n",
       "      <td>NaN</td>\n",
       "    </tr>\n",
       "    <tr>\n",
       "      <th>2</th>\n",
       "      <td>VARIOUS-253</td>\n",
       "      <td>Meetings</td>\n",
       "      <td>1.0</td>\n",
       "      <td>28/01/2019</td>\n",
       "      <td>sebastian</td>\n",
       "      <td>NaN</td>\n",
       "      <td>NaN</td>\n",
       "      <td>NaN</td>\n",
       "      <td>NaN</td>\n",
       "      <td>NaN</td>\n",
       "      <td>...</td>\n",
       "      <td>sebastian</td>\n",
       "      <td>0.0</td>\n",
       "      <td>1.0</td>\n",
       "      <td>NaN</td>\n",
       "      <td>1.0</td>\n",
       "      <td>NaN</td>\n",
       "      <td>NaN</td>\n",
       "      <td>NaN</td>\n",
       "      <td>NaN</td>\n",
       "      <td>NaN</td>\n",
       "    </tr>\n",
       "    <tr>\n",
       "      <th>3</th>\n",
       "      <td>JUSTIT-864</td>\n",
       "      <td>Implement Workflow Admin</td>\n",
       "      <td>6.0</td>\n",
       "      <td>30/01/2019</td>\n",
       "      <td>sebastian</td>\n",
       "      <td>NaN</td>\n",
       "      <td>NaN</td>\n",
       "      <td>NaN</td>\n",
       "      <td>NaN</td>\n",
       "      <td>NaN</td>\n",
       "      <td>...</td>\n",
       "      <td>sebastian</td>\n",
       "      <td>0.0</td>\n",
       "      <td>6.0</td>\n",
       "      <td>NaN</td>\n",
       "      <td>0.0</td>\n",
       "      <td>NaN</td>\n",
       "      <td>NaN</td>\n",
       "      <td>NaN</td>\n",
       "      <td>NaN</td>\n",
       "      <td>NaN</td>\n",
       "    </tr>\n",
       "    <tr>\n",
       "      <th>4</th>\n",
       "      <td>JUSTIT-864</td>\n",
       "      <td>Implement Workflow Admin</td>\n",
       "      <td>8.0</td>\n",
       "      <td>29/01/2019</td>\n",
       "      <td>sebastian</td>\n",
       "      <td>NaN</td>\n",
       "      <td>NaN</td>\n",
       "      <td>NaN</td>\n",
       "      <td>NaN</td>\n",
       "      <td>NaN</td>\n",
       "      <td>...</td>\n",
       "      <td>sebastian</td>\n",
       "      <td>0.0</td>\n",
       "      <td>8.0</td>\n",
       "      <td>NaN</td>\n",
       "      <td>0.0</td>\n",
       "      <td>NaN</td>\n",
       "      <td>NaN</td>\n",
       "      <td>NaN</td>\n",
       "      <td>NaN</td>\n",
       "      <td>NaN</td>\n",
       "    </tr>\n",
       "  </tbody>\n",
       "</table>\n",
       "<p>5 rows × 32 columns</p>\n",
       "</div>"
      ],
      "text/plain": [
       "     Issue Key             Issue summary  Hours   Work date   Username  \\\n",
       "0   ENEXSC-612           Meeting Gemalto    4.0  30/01/2019  sebastian   \n",
       "1   ENEXSC-612           Meeting Gemalto    8.0  31/01/2019  sebastian   \n",
       "2  VARIOUS-253                  Meetings    1.0  28/01/2019  sebastian   \n",
       "3   JUSTIT-864  Implement Workflow Admin    6.0  30/01/2019  sebastian   \n",
       "4   JUSTIT-864  Implement Workflow Admin    8.0  29/01/2019  sebastian   \n",
       "\n",
       "   Period  Account Key  Account Name  Account Lead  Account Category  ...  \\\n",
       "0     NaN          NaN           NaN           NaN               NaN  ...   \n",
       "1     NaN          NaN           NaN           NaN               NaN  ...   \n",
       "2     NaN          NaN           NaN           NaN               NaN  ...   \n",
       "3     NaN          NaN           NaN           NaN               NaN  ...   \n",
       "4     NaN          NaN           NaN           NaN               NaN  ...   \n",
       "\n",
       "    Reporter External Hours Billed Hours Issue Original Estimate  \\\n",
       "0  sebastian            0.0          4.0                     NaN   \n",
       "1  sebastian            0.0          8.0                     NaN   \n",
       "2  sebastian            0.0          1.0                     NaN   \n",
       "3  sebastian            0.0          6.0                     NaN   \n",
       "4  sebastian            0.0          8.0                     NaN   \n",
       "\n",
       "  Issue Remaining Estimate Customer Reference Project-Nr. (billable)  \\\n",
       "0                      0.0                NaN                    NaN   \n",
       "1                      0.0                NaN                    NaN   \n",
       "2                      1.0                NaN                    NaN   \n",
       "3                      0.0                NaN                    NaN   \n",
       "4                      0.0                NaN                    NaN   \n",
       "\n",
       "  Issue Ttus Project Name Full name  \n",
       "0        NaN          NaN       NaN  \n",
       "1        NaN          NaN       NaN  \n",
       "2        NaN          NaN       NaN  \n",
       "3        NaN          NaN       NaN  \n",
       "4        NaN          NaN       NaN  \n",
       "\n",
       "[5 rows x 32 columns]"
      ]
     },
     "execution_count": 3,
     "metadata": {},
     "output_type": "execute_result"
    }
   ],
   "source": [
    "main_dataframe.head()"
   ]
  },
  {
   "cell_type": "code",
   "execution_count": 4,
   "metadata": {
    "colab": {
     "base_uri": "https://localhost:8080/"
    },
    "executionInfo": {
     "elapsed": 229,
     "status": "ok",
     "timestamp": 1679689567752,
     "user": {
      "displayName": "Tomás De Aquino",
      "userId": "10180258478006408397"
     },
     "user_tz": -60
    },
    "id": "uVf24gAu53gq",
    "outputId": "6a574260-3864-4737-ce43-e32d9ef7601f"
   },
   "outputs": [
    {
     "name": "stdout",
     "output_type": "stream",
     "text": [
      "(81571, 32)\n",
      "Issue Key                    object\n",
      "Issue summary                object\n",
      "Hours                       float64\n",
      "Work date                    object\n",
      "Username                     object\n",
      "Period                      float64\n",
      "Account Key                 float64\n",
      "Account Name                float64\n",
      "Account Lead                float64\n",
      "Account Category            float64\n",
      "Account Customer            float64\n",
      "Activity Name                object\n",
      "Component                    object\n",
      "All Components               object\n",
      "Version Name                 object\n",
      "Issue Type                   object\n",
      "Issue Status                 object\n",
      "Project Key                  object\n",
      "Epic                         object\n",
      "Epic Link                    object\n",
      "Work Description             object\n",
      "Parent Key                   object\n",
      "Reporter                     object\n",
      "External Hours              float64\n",
      "Billed Hours                float64\n",
      "Issue Original Estimate     float64\n",
      "Issue Remaining Estimate    float64\n",
      "Customer Reference           object\n",
      "Project-Nr. (billable)       object\n",
      "Issue Ttus                   object\n",
      "Project Name                 object\n",
      "Full name                    object\n",
      "dtype: object\n"
     ]
    }
   ],
   "source": [
    "print(main_dataframe.shape)\n",
    "print(main_dataframe.dtypes)"
   ]
  },
  {
   "cell_type": "markdown",
   "metadata": {
    "id": "pF9pr-R12t8P"
   },
   "source": [
    "Transformación del formato de la variable fecha"
   ]
  },
  {
   "cell_type": "code",
   "execution_count": 5,
   "metadata": {
    "colab": {
     "base_uri": "https://localhost:8080/"
    },
    "executionInfo": {
     "elapsed": 241,
     "status": "ok",
     "timestamp": 1679689569877,
     "user": {
      "displayName": "Tomás De Aquino",
      "userId": "10180258478006408397"
     },
     "user_tz": -60
    },
    "id": "mFa2-eMQ2xGt",
    "outputId": "661c3399-775e-41ce-806e-051a90f78072"
   },
   "outputs": [],
   "source": [
    "%%capture\n",
    "main_dataframe['Work date'] = pd.to_datetime(main_dataframe['Work date']) "
   ]
  },
  {
   "cell_type": "markdown",
   "metadata": {
    "id": "MHq4O2QW-UUz"
   },
   "source": [
    "Ordenar el dataframe por fecha"
   ]
  },
  {
   "cell_type": "code",
   "execution_count": 6,
   "metadata": {
    "executionInfo": {
     "elapsed": 239,
     "status": "ok",
     "timestamp": 1679689573788,
     "user": {
      "displayName": "Tomás De Aquino",
      "userId": "10180258478006408397"
     },
     "user_tz": -60
    },
    "id": "kBLDIySV-T8Y"
   },
   "outputs": [],
   "source": [
    "df1=main_dataframe.sort_values(by='Work date')"
   ]
  },
  {
   "cell_type": "code",
   "execution_count": 7,
   "metadata": {
    "colab": {
     "base_uri": "https://localhost:8080/"
    },
    "executionInfo": {
     "elapsed": 256,
     "status": "ok",
     "timestamp": 1679689578451,
     "user": {
      "displayName": "Tomás De Aquino",
      "userId": "10180258478006408397"
     },
     "user_tz": -60
    },
    "id": "2ZcbkclP-jud",
    "outputId": "31a26288-a069-47d5-99aa-b748c361b1c4"
   },
   "outputs": [
    {
     "name": "stdout",
     "output_type": "stream",
     "text": [
      "        Issue Key                                      Issue summary  Hours  \\\n",
      "667     POAG-2572   Übernahmw Kontrollschild, Fz und Halter aus Home   0.50   \n",
      "724    JUSTIT-984  BACKOFFICE-IT make all the unit tests pass in ...   2.00   \n",
      "735    VATRO-1650      Split between clientProduct and XplainProduct   8.00   \n",
      "714   VARIOUS-474  Maintenance, packages and tool upgrades, POCs ...   4.00   \n",
      "715     TPOBO-311           App loads old data / show old train data   4.00   \n",
      "...           ...                                                ...    ...   \n",
      "2338    No access                                                NaN  64.00   \n",
      "2314    No access                                                NaN  47.75   \n",
      "2451    No access                                                NaN  48.25   \n",
      "2200    No access                                                NaN   2.00   \n",
      "1817    No access                                                NaN   1.00   \n",
      "\n",
      "      Work date   Username  Period  Account Key  Account Name  Account Lead  \\\n",
      "667  2019-01-01  sebastian     NaN          NaN           NaN           NaN   \n",
      "724  2019-01-02    roberto     NaN          NaN           NaN           NaN   \n",
      "735  2019-01-02      pilar     NaN          NaN           NaN           NaN   \n",
      "714  2019-01-02        teo     NaN          NaN           NaN           NaN   \n",
      "715  2019-01-02        teo     NaN          NaN           NaN           NaN   \n",
      "...         ...        ...     ...          ...           ...           ...   \n",
      "2338        NaT        NaN     NaN          NaN           NaN           NaN   \n",
      "2314        NaT        NaN     NaN          NaN           NaN           NaN   \n",
      "2451        NaT        NaN     NaN          NaN           NaN           NaN   \n",
      "2200        NaT        NaN     NaN          NaN           NaN           NaN   \n",
      "1817        NaT        NaN     NaN          NaN           NaN           NaN   \n",
      "\n",
      "      Account Category  ...  Reporter External Hours Billed Hours  \\\n",
      "667                NaN  ...  valentin            0.0          0.5   \n",
      "724                NaN  ...   roberto            0.0          2.0   \n",
      "735                NaN  ...     pilar            0.0          8.0   \n",
      "714                NaN  ...     Mario            0.0          4.0   \n",
      "715                NaN  ...    robert            0.0          4.0   \n",
      "...                ...  ...       ...            ...          ...   \n",
      "2338               NaN  ...       NaN            NaN          NaN   \n",
      "2314               NaN  ...       NaN            NaN          NaN   \n",
      "2451               NaN  ...       NaN            NaN          NaN   \n",
      "2200               NaN  ...       NaN            NaN          NaN   \n",
      "1817               NaN  ...       NaN            NaN          NaN   \n",
      "\n",
      "     Issue Original Estimate Issue Remaining Estimate Customer Reference  \\\n",
      "667                      NaN                      0.0                NaN   \n",
      "724                      NaN                      0.0                NaN   \n",
      "735                      NaN                      0.0                NaN   \n",
      "714                      NaN                      0.0                NaN   \n",
      "715                      0.0                      0.0                NaN   \n",
      "...                      ...                      ...                ...   \n",
      "2338                     NaN                      NaN                NaN   \n",
      "2314                     NaN                      NaN                NaN   \n",
      "2451                     NaN                      NaN                NaN   \n",
      "2200                     NaN                      NaN                NaN   \n",
      "1817                     NaN                      NaN                NaN   \n",
      "\n",
      "     Project-Nr. (billable) Issue Ttus Project Name Full name  \n",
      "667                     NaN        NaN          NaN       NaN  \n",
      "724                     NaN        NaN          NaN       NaN  \n",
      "735                     NaN        NaN          NaN       NaN  \n",
      "714                     NaN        NaN          NaN       NaN  \n",
      "715                     NaN        NaN          NaN       NaN  \n",
      "...                     ...        ...          ...       ...  \n",
      "2338                    NaN        NaN          NaN       NaN  \n",
      "2314                    NaN        NaN          NaN       NaN  \n",
      "2451                    NaN        NaN          NaN       NaN  \n",
      "2200                    NaN        NaN          NaN       NaN  \n",
      "1817                    NaN        NaN          NaN       NaN  \n",
      "\n",
      "[81571 rows x 32 columns]\n"
     ]
    }
   ],
   "source": [
    "print(df1)"
   ]
  },
  {
   "cell_type": "markdown",
   "metadata": {
    "id": "e4HvVha-_6zb"
   },
   "source": [
    "Hay varias columnas o variables que simplemente a lo largo de los documentos han cambiado de nombre, por lo que es importante localizarlas y agruparlas en una sola variable.\n",
    "\n",
    "Tras hacer un análisis de las variables, 26 se repiten en todos los documentos. Hay una vigesimoséptima, Issue Status, que en algunos documentos se llama Issue Ttus. Se agrupará en una única variable.\n",
    "\n",
    "Por otra parte, Customer reference, link de Jira, no nos sirve para el análisis de los datos, por lo que se va a eliminar.\n",
    "\n",
    "Project_Nr. (billable) -> es un código que no nos aporta información, por lo que se descarta.\n",
    "\n",
    "Project Name -> variable muy parecida a project key, además va a tener muchísimos missing values, por lo que se puede borrar por dos razones distintas.\n",
    "\n",
    "Full name -> nombre y apellidos de los usuarios. Algún mes había dos Jose Manuel distintos, sin embargo, username ya distingue a los usuarios (josem y josema), por lo que no necesitamos esta columna (nos importa saber que hay usuarios distintos, pero no su identidad para este trabajo)."
   ]
  },
  {
   "cell_type": "code",
   "execution_count": 8,
   "metadata": {
    "executionInfo": {
     "elapsed": 202,
     "status": "ok",
     "timestamp": 1679689584132,
     "user": {
      "displayName": "Tomás De Aquino",
      "userId": "10180258478006408397"
     },
     "user_tz": -60
    },
    "id": "jgkNAgqwAKok"
   },
   "outputs": [],
   "source": [
    "df1 = df1.drop(['Customer Reference', 'Project-Nr. (billable)', 'Project Name', 'Full name'], axis = 1)"
   ]
  },
  {
   "cell_type": "markdown",
   "metadata": {
    "id": "24loXFUoQQo8"
   },
   "source": [
    "Ahora los valores de Issue Ttus se trasladarán a la columna Issue Status. Después se borra la columna Issue Ttus, quedando todos los valores agrupados en la columna Issue Status."
   ]
  },
  {
   "cell_type": "code",
   "execution_count": 9,
   "metadata": {
    "executionInfo": {
     "elapsed": 210,
     "status": "ok",
     "timestamp": 1679688305972,
     "user": {
      "displayName": "Tomás De Aquino",
      "userId": "10180258478006408397"
     },
     "user_tz": -60
    },
    "id": "uFoZBINtrg-E"
   },
   "outputs": [],
   "source": [
    "df1['Issue Status'] = df1['Issue Status'].fillna(df1['Issue Ttus'])"
   ]
  },
  {
   "cell_type": "code",
   "execution_count": 10,
   "metadata": {},
   "outputs": [],
   "source": [
    "df2 = df1.drop(['Issue Ttus'], axis = 1)"
   ]
  },
  {
   "cell_type": "markdown",
   "metadata": {},
   "source": [
    "Revisión de las variables que quedan aún en el archivo de datos"
   ]
  },
  {
   "cell_type": "code",
   "execution_count": 11,
   "metadata": {},
   "outputs": [
    {
     "name": "stdout",
     "output_type": "stream",
     "text": [
      "(81571, 27)\n",
      "Issue Key                           object\n",
      "Issue summary                       object\n",
      "Hours                              float64\n",
      "Work date                   datetime64[ns]\n",
      "Username                            object\n",
      "Period                             float64\n",
      "Account Key                        float64\n",
      "Account Name                       float64\n",
      "Account Lead                       float64\n",
      "Account Category                   float64\n",
      "Account Customer                   float64\n",
      "Activity Name                       object\n",
      "Component                           object\n",
      "All Components                      object\n",
      "Version Name                        object\n",
      "Issue Type                          object\n",
      "Issue Status                        object\n",
      "Project Key                         object\n",
      "Epic                                object\n",
      "Epic Link                           object\n",
      "Work Description                    object\n",
      "Parent Key                          object\n",
      "Reporter                            object\n",
      "External Hours                     float64\n",
      "Billed Hours                       float64\n",
      "Issue Original Estimate            float64\n",
      "Issue Remaining Estimate           float64\n",
      "dtype: object\n"
     ]
    }
   ],
   "source": [
    "print(df2.shape)\n",
    "print(df2.dtypes)"
   ]
  },
  {
   "cell_type": "markdown",
   "metadata": {},
   "source": [
    "Como parte del proceso KDD que wses pretende utilizar para transformar los datos en valor (pasando previamente por información), Se va a comprobar los missing values que se encuentran entre los datos.\n",
    "\n",
    "Para hacerlo de forma visual, se propone el siguiente mapa de calor:"
   ]
  },
  {
   "cell_type": "code",
   "execution_count": 12,
   "metadata": {},
   "outputs": [
    {
     "data": {
      "text/plain": [
       "<AxesSubplot:>"
      ]
     },
     "execution_count": 12,
     "metadata": {},
     "output_type": "execute_result"
    },
    {
     "data": {
      "image/png": "[encoded data removed]",
      "text/plain": [
       "<Figure size 864x576 with 2 Axes>"
      ]
     },
     "metadata": {
      "needs_background": "light"
     },
     "output_type": "display_data"
    }
   ],
   "source": [
    "cols = df2.columns[:27]\n",
    "colours = ['k', 'r'] # rojo son los missing values, mientras que en negro se representa el resto de valores\n",
    "sns.heatmap(df2[cols].isnull(), cmap=sns.color_palette(colours))"
   ]
  },
  {
   "cell_type": "markdown",
   "metadata": {},
   "source": [
    "Dado el elevado número de variables repletas de missing values, es conveniente visualizar estos datos de la siguiente forma:"
   ]
  },
  {
   "cell_type": "code",
   "execution_count": 13,
   "metadata": {},
   "outputs": [
    {
     "name": "stdout",
     "output_type": "stream",
     "text": [
      "Issue Key - 0%\n",
      "Issue summary - 0%\n",
      "Hours - 0%\n",
      "Work date - 0%\n",
      "Username - 0%\n",
      "Period - 100%\n",
      "Account Key - 100%\n",
      "Account Name - 100%\n",
      "Account Lead - 100%\n",
      "Account Category - 100%\n",
      "Account Customer - 100%\n",
      "Activity Name - 0%\n",
      "Component - 45%\n",
      "All Components - 45%\n",
      "Version Name - 65%\n",
      "Issue Type - 0%\n",
      "Issue Status - 0%\n",
      "Project Key - 0%\n",
      "Epic - 100%\n",
      "Epic Link - 99%\n",
      "Work Description - 10%\n",
      "Parent Key - 78%\n",
      "Reporter - 0%\n",
      "External Hours - 0%\n",
      "Billed Hours - 0%\n",
      "Issue Original Estimate - 80%\n",
      "Issue Remaining Estimate - 2%\n"
     ]
    }
   ],
   "source": [
    "for col in df2.columns:\n",
    "    pct_missing = np.mean(df2[col].isnull())\n",
    "    print('{} - {}%'.format(col, round(pct_missing*100)))"
   ]
  },
  {
   "cell_type": "markdown",
   "metadata": {},
   "source": [
    "De entrada, se va a desestimar aquellas variables con un porcentaje de missing values superior al 50%, después, se evaluarán una a una las variables con missing values."
   ]
  },
  {
   "cell_type": "code",
   "execution_count": 14,
   "metadata": {},
   "outputs": [],
   "source": [
    "df2 = df2.drop(['Period', 'Account Key', 'Account Name', 'Account Lead', \n",
    "                'Account Category', 'Account Customer', 'Epic', 'Epic Link', 'Issue Original Estimate'], axis = 1)"
   ]
  },
  {
   "cell_type": "code",
   "execution_count": 15,
   "metadata": {},
   "outputs": [
    {
     "data": {
      "text/html": [
       "<div>\n",
       "<style scoped>\n",
       "    .dataframe tbody tr th:only-of-type {\n",
       "        vertical-align: middle;\n",
       "    }\n",
       "\n",
       "    .dataframe tbody tr th {\n",
       "        vertical-align: top;\n",
       "    }\n",
       "\n",
       "    .dataframe thead th {\n",
       "        text-align: right;\n",
       "    }\n",
       "</style>\n",
       "<table border=\"1\" class=\"dataframe\">\n",
       "  <thead>\n",
       "    <tr style=\"text-align: right;\">\n",
       "      <th></th>\n",
       "      <th>Issue Key</th>\n",
       "      <th>Issue summary</th>\n",
       "      <th>Hours</th>\n",
       "      <th>Work date</th>\n",
       "      <th>Username</th>\n",
       "      <th>Activity Name</th>\n",
       "      <th>Component</th>\n",
       "      <th>All Components</th>\n",
       "      <th>Version Name</th>\n",
       "      <th>Issue Type</th>\n",
       "      <th>Issue Status</th>\n",
       "      <th>Project Key</th>\n",
       "      <th>Work Description</th>\n",
       "      <th>Parent Key</th>\n",
       "      <th>Reporter</th>\n",
       "      <th>External Hours</th>\n",
       "      <th>Billed Hours</th>\n",
       "      <th>Issue Remaining Estimate</th>\n",
       "    </tr>\n",
       "  </thead>\n",
       "  <tbody>\n",
       "    <tr>\n",
       "      <th>667</th>\n",
       "      <td>POAG-2572</td>\n",
       "      <td>Übernahmw Kontrollschild, Fz und Halter aus Home</td>\n",
       "      <td>0.5</td>\n",
       "      <td>2019-01-01</td>\n",
       "      <td>sebastian</td>\n",
       "      <td>Formular+</td>\n",
       "      <td>Formular+</td>\n",
       "      <td>Formular+</td>\n",
       "      <td>NaN</td>\n",
       "      <td>Bug</td>\n",
       "      <td>Closed</td>\n",
       "      <td>POAG</td>\n",
       "      <td>added comments</td>\n",
       "      <td>NaN</td>\n",
       "      <td>valentin</td>\n",
       "      <td>0.0</td>\n",
       "      <td>0.5</td>\n",
       "      <td>0.0</td>\n",
       "    </tr>\n",
       "    <tr>\n",
       "      <th>724</th>\n",
       "      <td>JUSTIT-984</td>\n",
       "      <td>BACKOFFICE-IT make all the unit tests pass in ...</td>\n",
       "      <td>2.0</td>\n",
       "      <td>2019-01-02</td>\n",
       "      <td>roberto</td>\n",
       "      <td>JustThis IT</td>\n",
       "      <td>NaN</td>\n",
       "      <td>NaN</td>\n",
       "      <td>NaN</td>\n",
       "      <td>New Feature</td>\n",
       "      <td>Closed</td>\n",
       "      <td>JUSTIT</td>\n",
       "      <td>Make all the unit test pass in green in the ID...</td>\n",
       "      <td>NaN</td>\n",
       "      <td>roberto</td>\n",
       "      <td>0.0</td>\n",
       "      <td>2.0</td>\n",
       "      <td>0.0</td>\n",
       "    </tr>\n",
       "    <tr>\n",
       "      <th>735</th>\n",
       "      <td>VATRO-1650</td>\n",
       "      <td>Split between clientProduct and XplainProduct</td>\n",
       "      <td>8.0</td>\n",
       "      <td>2019-01-02</td>\n",
       "      <td>pilar</td>\n",
       "      <td>Lucene</td>\n",
       "      <td>NaN</td>\n",
       "      <td>NaN</td>\n",
       "      <td>Lucene</td>\n",
       "      <td>New Feature</td>\n",
       "      <td>Closed</td>\n",
       "      <td>VATRO</td>\n",
       "      <td>Implementation</td>\n",
       "      <td>NaN</td>\n",
       "      <td>pilar</td>\n",
       "      <td>0.0</td>\n",
       "      <td>8.0</td>\n",
       "      <td>0.0</td>\n",
       "    </tr>\n",
       "    <tr>\n",
       "      <th>714</th>\n",
       "      <td>VARIOUS-474</td>\n",
       "      <td>Maintenance, packages and tool upgrades, POCs ...</td>\n",
       "      <td>4.0</td>\n",
       "      <td>2019-01-02</td>\n",
       "      <td>teo</td>\n",
       "      <td>VARIOUS</td>\n",
       "      <td>NaN</td>\n",
       "      <td>NaN</td>\n",
       "      <td>NaN</td>\n",
       "      <td>Task</td>\n",
       "      <td>In Progress</td>\n",
       "      <td>VARIOUS</td>\n",
       "      <td></td>\n",
       "      <td>NaN</td>\n",
       "      <td>Mario</td>\n",
       "      <td>0.0</td>\n",
       "      <td>4.0</td>\n",
       "      <td>0.0</td>\n",
       "    </tr>\n",
       "    <tr>\n",
       "      <th>715</th>\n",
       "      <td>TPOBO-311</td>\n",
       "      <td>App loads old data / show old train data</td>\n",
       "      <td>4.0</td>\n",
       "      <td>2019-01-02</td>\n",
       "      <td>teo</td>\n",
       "      <td>module-ox-5</td>\n",
       "      <td>module-ox-5</td>\n",
       "      <td>module-ox-5</td>\n",
       "      <td>NaN</td>\n",
       "      <td>Bug</td>\n",
       "      <td>Closed</td>\n",
       "      <td>TPOBO</td>\n",
       "      <td></td>\n",
       "      <td>NaN</td>\n",
       "      <td>robert</td>\n",
       "      <td>0.0</td>\n",
       "      <td>4.0</td>\n",
       "      <td>0.0</td>\n",
       "    </tr>\n",
       "  </tbody>\n",
       "</table>\n",
       "</div>"
      ],
      "text/plain": [
       "       Issue Key                                      Issue summary  Hours  \\\n",
       "667    POAG-2572   Übernahmw Kontrollschild, Fz und Halter aus Home    0.5   \n",
       "724   JUSTIT-984  BACKOFFICE-IT make all the unit tests pass in ...    2.0   \n",
       "735   VATRO-1650      Split between clientProduct and XplainProduct    8.0   \n",
       "714  VARIOUS-474  Maintenance, packages and tool upgrades, POCs ...    4.0   \n",
       "715    TPOBO-311           App loads old data / show old train data    4.0   \n",
       "\n",
       "     Work date   Username Activity Name    Component All Components  \\\n",
       "667 2019-01-01  sebastian     Formular+    Formular+      Formular+   \n",
       "724 2019-01-02    roberto   JustThis IT          NaN            NaN   \n",
       "735 2019-01-02      pilar        Lucene          NaN            NaN   \n",
       "714 2019-01-02        teo       VARIOUS          NaN            NaN   \n",
       "715 2019-01-02        teo   module-ox-5  module-ox-5    module-ox-5   \n",
       "\n",
       "    Version Name   Issue Type Issue Status Project Key  \\\n",
       "667          NaN          Bug       Closed        POAG   \n",
       "724          NaN  New Feature       Closed      JUSTIT   \n",
       "735       Lucene  New Feature       Closed       VATRO   \n",
       "714          NaN         Task  In Progress     VARIOUS   \n",
       "715          NaN          Bug       Closed       TPOBO   \n",
       "\n",
       "                                      Work Description Parent Key  Reporter  \\\n",
       "667                                     added comments        NaN  valentin   \n",
       "724  Make all the unit test pass in green in the ID...        NaN   roberto   \n",
       "735                                     Implementation        NaN     pilar   \n",
       "714                                                           NaN     Mario   \n",
       "715                                                           NaN    robert   \n",
       "\n",
       "     External Hours  Billed Hours  Issue Remaining Estimate  \n",
       "667             0.0           0.5                       0.0  \n",
       "724             0.0           2.0                       0.0  \n",
       "735             0.0           8.0                       0.0  \n",
       "714             0.0           4.0                       0.0  \n",
       "715             0.0           4.0                       0.0  "
      ]
     },
     "execution_count": 15,
     "metadata": {},
     "output_type": "execute_result"
    }
   ],
   "source": [
    "df2.head()"
   ]
  },
  {
   "cell_type": "code",
   "execution_count": 16,
   "metadata": {},
   "outputs": [],
   "source": [
    "#df2.to_csv('datoscargadosprueba2.csv', sep=';')"
   ]
  },
  {
   "cell_type": "code",
   "execution_count": 17,
   "metadata": {},
   "outputs": [
    {
     "name": "stdout",
     "output_type": "stream",
     "text": [
      "Issue Key - 0%\n",
      "Issue summary - 0%\n",
      "Hours - 0%\n",
      "Work date - 0%\n",
      "Username - 0%\n",
      "Activity Name - 0%\n",
      "Component - 45%\n",
      "All Components - 45%\n",
      "Version Name - 65%\n",
      "Issue Type - 0%\n",
      "Issue Status - 0%\n",
      "Project Key - 0%\n",
      "Work Description - 10%\n",
      "Parent Key - 78%\n",
      "Reporter - 0%\n",
      "External Hours - 0%\n",
      "Billed Hours - 0%\n",
      "Issue Remaining Estimate - 2%\n"
     ]
    }
   ],
   "source": [
    "for col in df2.columns:\n",
    "    pct_missing = np.mean(df2[col].isnull())\n",
    "    print('{} - {}%'.format(col, round(pct_missing*100)))"
   ]
  },
  {
   "cell_type": "markdown",
   "metadata": {},
   "source": [
    "Tras obtener el archivo csv resultante, se hace una breve observación de las categorías que permanecen en el dataset.\n",
    "Component y All components son bastante similares y no aportan demasiada información de acuerdo con el objetivo que se persigue, además de tener una gran cantidad de missing values. Además, los valores que no son missing values en estas variables, coinciden con los valores de Activity Name.\n",
    "Version Name, que contiene también demasiados missing values, se va a quitar del dataset.\n",
    "Parent Key, de la misma forma, posee demasiados missing values. Si bien los missing values significan que la actividad en cuestión no deriva de otra, podría transformarse en una variable Booleana, que indique si la actividad posee parent key o no. \n",
    "External Hours ha resultado tener el mismo valor para toda la variable, por lo que no aporta información."
   ]
  },
  {
   "cell_type": "code",
   "execution_count": 18,
   "metadata": {},
   "outputs": [],
   "source": [
    "df2 = df2.drop(['Component', 'All Components', 'Version Name', 'External Hours'], axis = 1)"
   ]
  },
  {
   "cell_type": "code",
   "execution_count": 19,
   "metadata": {},
   "outputs": [
    {
     "name": "stdout",
     "output_type": "stream",
     "text": [
      "Issue Key - 0%\n",
      "Issue summary - 0%\n",
      "Hours - 0%\n",
      "Work date - 0%\n",
      "Username - 0%\n",
      "Activity Name - 0%\n",
      "Issue Type - 0%\n",
      "Issue Status - 0%\n",
      "Project Key - 0%\n",
      "Work Description - 10%\n",
      "Parent Key - 78%\n",
      "Reporter - 0%\n",
      "Billed Hours - 0%\n",
      "Issue Remaining Estimate - 2%\n"
     ]
    }
   ],
   "source": [
    "for col in df2.columns:\n",
    "    pct_missing = np.mean(df2[col].isnull())\n",
    "    print('{} - {}%'.format(col, round(pct_missing*100)))"
   ]
  },
  {
   "cell_type": "code",
   "execution_count": 20,
   "metadata": {},
   "outputs": [],
   "source": [
    "df2['Parent Key'] = df2['Parent Key'].fillna(0)"
   ]
  },
  {
   "cell_type": "code",
   "execution_count": 21,
   "metadata": {},
   "outputs": [],
   "source": [
    "df2.loc[df2['Parent Key'] != 0, 'Parent Key'] = 1"
   ]
  },
  {
   "cell_type": "code",
   "execution_count": 22,
   "metadata": {},
   "outputs": [
    {
     "name": "stdout",
     "output_type": "stream",
     "text": [
      "667     0\n",
      "724     0\n",
      "735     0\n",
      "714     0\n",
      "715     0\n",
      "       ..\n",
      "2338    0\n",
      "2314    0\n",
      "2451    0\n",
      "2200    0\n",
      "1817    0\n",
      "Name: Parent Key, Length: 81571, dtype: object\n"
     ]
    }
   ],
   "source": [
    "print(df2['Parent Key'])"
   ]
  },
  {
   "cell_type": "code",
   "execution_count": 23,
   "metadata": {},
   "outputs": [],
   "source": [
    "df2['Parent Key'] = df2['Parent Key'].astype('bool')"
   ]
  },
  {
   "cell_type": "code",
   "execution_count": 24,
   "metadata": {},
   "outputs": [],
   "source": [
    "#df2.to_csv('datoscargadosprueba2.csv', sep=';')"
   ]
  },
  {
   "cell_type": "code",
   "execution_count": 25,
   "metadata": {},
   "outputs": [
    {
     "name": "stdout",
     "output_type": "stream",
     "text": [
      "Issue Key - 0%\n",
      "Issue summary - 0%\n",
      "Hours - 0%\n",
      "Work date - 0%\n",
      "Username - 0%\n",
      "Activity Name - 0%\n",
      "Issue Type - 0%\n",
      "Issue Status - 0%\n",
      "Project Key - 0%\n",
      "Work Description - 10%\n",
      "Parent Key - 0%\n",
      "Reporter - 0%\n",
      "Billed Hours - 0%\n",
      "Issue Remaining Estimate - 2%\n"
     ]
    }
   ],
   "source": [
    "for col in df2.columns:\n",
    "    pct_missing = np.mean(df2[col].isnull())\n",
    "    print('{} - {}%'.format(col, round(pct_missing*100)))"
   ]
  },
  {
   "cell_type": "code",
   "execution_count": 26,
   "metadata": {},
   "outputs": [
    {
     "name": "stdout",
     "output_type": "stream",
     "text": [
      "(81571, 14)\n",
      "Issue Key                           object\n",
      "Issue summary                       object\n",
      "Hours                              float64\n",
      "Work date                   datetime64[ns]\n",
      "Username                            object\n",
      "Activity Name                       object\n",
      "Issue Type                          object\n",
      "Issue Status                        object\n",
      "Project Key                         object\n",
      "Work Description                    object\n",
      "Parent Key                            bool\n",
      "Reporter                            object\n",
      "Billed Hours                       float64\n",
      "Issue Remaining Estimate           float64\n",
      "dtype: object\n"
     ]
    }
   ],
   "source": [
    "print(df2.shape)\n",
    "print(df2.dtypes)"
   ]
  },
  {
   "cell_type": "markdown",
   "metadata": {},
   "source": [
    "Voy a comprobar si hay alguna otra variable que posea un gran número de filas con el mismo valor, concretamente el 95% o más de filas con el mismo valor:"
   ]
  },
  {
   "cell_type": "code",
   "execution_count": 27,
   "metadata": {},
   "outputs": [
    {
     "name": "stdout",
     "output_type": "stream",
     "text": [
      "Los valores de esta variable no coinciden en un 95%\n",
      "Los valores de esta variable no coinciden en un 95%\n",
      "Los valores de esta variable no coinciden en un 95%\n",
      "Los valores de esta variable no coinciden en un 95%\n",
      "Los valores de esta variable no coinciden en un 95%\n",
      "Los valores de esta variable no coinciden en un 95%\n",
      "Los valores de esta variable no coinciden en un 95%\n",
      "Los valores de esta variable no coinciden en un 95%\n",
      "Los valores de esta variable no coinciden en un 95%\n",
      "Los valores de esta variable no coinciden en un 95%\n",
      "Los valores de esta variable no coinciden en un 95%\n",
      "Los valores de esta variable no coinciden en un 95%\n",
      "Los valores de esta variable no coinciden en un 95%\n",
      "Los valores de esta variable no coinciden en un 95%\n"
     ]
    }
   ],
   "source": [
    "num_rows = len(df2.index)\n",
    "low_information_cols = [] #\n",
    "\n",
    "for col in df2.columns:\n",
    "    cnts = df2[col].value_counts(dropna=False)\n",
    "    top_pct = (cnts/num_rows).iloc[0]\n",
    "    \n",
    "    if top_pct > 0.95:\n",
    "        low_information_cols.append(col)\n",
    "        print('{0}: {1:.5f}%'.format(col, top_pct*100))\n",
    "        print(cnts)\n",
    "        print()\n",
    "    else:\n",
    "        print('Los valores de esta variable no coinciden en un 95%')"
   ]
  },
  {
   "cell_type": "markdown",
   "metadata": {},
   "source": [
    "## Añadir el coste/hora ##"
   ]
  },
  {
   "cell_type": "markdown",
   "metadata": {},
   "source": [
    "Se divide la variable fecha en 3 variables que especifiquen día, mes y año"
   ]
  },
  {
   "cell_type": "code",
   "execution_count": 28,
   "metadata": {},
   "outputs": [],
   "source": [
    "df2['AÑO'] = df2['Work date'].dt.year\n",
    "df2['MES'] = df2['Work date'].dt.month\n",
    "df2['DIA'] = df2['Work date'].dt.day"
   ]
  },
  {
   "cell_type": "markdown",
   "metadata": {},
   "source": [
    "Además, es posible añadir más valor aún al dataset gracias a un pequeño dataset externo que indica el coste/hora que asume la empresa por cada trabajador, generando una nueva variable:"
   ]
  },
  {
   "cell_type": "code",
   "execution_count": 29,
   "metadata": {},
   "outputs": [],
   "source": [
    "df2.loc[df2['Username'] == 'emmanuel', 'Coste por hora'] = 50\n",
    "df2.loc[df2['Username'] == 'domingo', 'Coste por hora'] = 50\n",
    "df2.loc[df2['Username'] == 'roman', 'Coste por hora'] = 50*3\n",
    "df2.loc[df2['Username'] == 'ramon', 'Coste por hora'] = 50\n",
    "df2.loc[df2['Username'] == 'christian.fricker', 'Coste por hora'] = 50*1.5\n",
    "df2.loc[df2['Username'] == 'lea', 'Coste por hora'] = 50*2\n",
    "df2.loc[df2['Username'] == 'Project', 'Coste por hora'] = 50*3\n",
    "df2.loc[df2['Username'] == 'rocio', 'Coste por hora'] = 50*0.7\n",
    "df2.loc[df2['Username'] == 'Josema', 'Coste por hora'] = 50\n",
    "df2.loc[df2['Username'] == 'tim', 'Coste por hora'] = 50*2\n",
    "df2.loc[df2['Username'] == 'isabel', 'Coste por hora'] = 50*1.5\n",
    "df2.loc[df2['Username'] == 'teo', 'Coste por hora'] = 50*1.25\n",
    "df2.loc[df2['Username'] == 'marcel', 'Coste por hora'] = 50*3\n",
    "df2.loc[df2['Username'] == 'stefan', 'Coste por hora'] = 50*3\n",
    "df2.loc[df2['Username'] == 'oscar', 'Coste por hora'] = 50*1.25\n",
    "df2.loc[df2['Username'] == 'sergiol', 'Coste por hora'] = 50*1.5\n",
    "df2.loc[df2['Username'] == 'juerg', 'Coste por hora'] = 50*3\n",
    "df2.loc[df2['Username'] == 'beatriz', 'Coste por hora'] = 50*1.5\n",
    "df2.loc[df2['Username'] == 'test', 'Coste por hora'] = 50*0.5\n",
    "df2.loc[df2['Username'] == 'juanb', 'Coste por hora'] = 50\n",
    "df2.loc[df2['Username'] == 'roberto', 'Coste por hora'] = 50*1.5\n",
    "df2.loc[df2['Username'] == 'Mario', 'Coste por hora'] = 50*1.25\n",
    "df2.loc[df2['Username'] == 'sebastian', 'Coste por hora'] = 50*1.75\n",
    "df2.loc[df2['Username'] == 'marcus', 'Coste por hora'] = 50*1.75\n",
    "df2.loc[df2['Username'] == 'loewi', 'Coste por hora'] = 50*5\n",
    "df2.loc[df2['Username'] == 'raul', 'Coste por hora'] = 50*1.5\n",
    "df2.loc[df2['Username'] == 'jesus', 'Coste por hora'] = 50*0.5\n",
    "df2.loc[df2['Username'] == 'matteo', 'Coste por hora'] = 50*3\n",
    "df2.loc[df2['Username'] == 'ignacio', 'Coste por hora'] = 50*1.25\n",
    "df2.loc[df2['Username'] == 'Pedros', 'Coste por hora'] = 50*0.7\n",
    "df2.loc[df2['Username'] == 'server', 'Coste por hora'] = 50*1.25\n",
    "df2.loc[df2['Username'] == 'angela', 'Coste por hora'] = 50*1.25\n",
    "df2.loc[df2['Username'] == 'lorenzo', 'Coste por hora'] = 50\n",
    "df2.loc[df2['Username'] == 'manuel', 'Coste por hora'] = 50*1.25\n",
    "df2.loc[df2['Username'] == 'miguel', 'Coste por hora'] = 50\n",
    "df2.loc[df2['Username'] == 'gregorio', 'Coste por hora'] = 50*1.5\n",
    "df2.loc[df2['Username'] == 'app', 'Coste por hora'] = 50\n",
    "df2.loc[df2['Username'] == 'tom', 'Coste por hora'] = 50*2\n",
    "df2.loc[df2['Username'] == 'andreas', 'Coste por hora'] = 50*3\n",
    "df2.loc[df2['Username'] == 'client', 'Coste por hora'] = 50*1.25\n",
    "df2.loc[df2['Username'] == 'david', 'Coste por hora'] = 50*1.25\n",
    "df2.loc[df2['Username'] == 'pilar', 'Coste por hora'] = 50*1.25\n",
    "df2.loc[df2['Username'] == 'dani.fricker', 'Coste por hora'] = 50*1.25\n",
    "df2.loc[df2['Username'] == 'alberto', 'Coste por hora'] = 50*1.25\n",
    "df2.loc[df2['Username'] == 'maira', 'Coste por hora'] = 50*0.5\n",
    "df2.loc[df2['Username'] == 'sergio', 'Coste por hora'] = 50*1.25\n",
    "df2.loc[df2['Username'] == 'marcial', 'Coste por hora'] = 50*1.25\n",
    "df2.loc[df2['Username'] == 'linda', 'Coste por hora'] = 50*2\n",
    "df2.loc[df2['Username'] == 'stella', 'Coste por hora'] = 50*2\n",
    "df2.loc[df2['Username'] == 'simon', 'Coste por hora'] = 50*2\n",
    "df2.loc[df2['Username'] == 'kaniye', 'Coste por hora'] = 50*2\n",
    "df2.loc[df2['Username'] == 'alvaro', 'Coste por hora'] = 50\n",
    "df2.loc[df2['Username'] == 'josel', 'Coste por hora'] = 50\n",
    "df2.loc[df2['Username'] == 'josem', 'Coste por hora'] = 50*1.25"
   ]
  },
  {
   "cell_type": "code",
   "execution_count": 30,
   "metadata": {},
   "outputs": [
    {
     "name": "stdout",
     "output_type": "stream",
     "text": [
      "(81571, 18)\n",
      "Issue Key                           object\n",
      "Issue summary                       object\n",
      "Hours                              float64\n",
      "Work date                   datetime64[ns]\n",
      "Username                            object\n",
      "Activity Name                       object\n",
      "Issue Type                          object\n",
      "Issue Status                        object\n",
      "Project Key                         object\n",
      "Work Description                    object\n",
      "Parent Key                            bool\n",
      "Reporter                            object\n",
      "Billed Hours                       float64\n",
      "Issue Remaining Estimate           float64\n",
      "AÑO                                float64\n",
      "MES                                float64\n",
      "DIA                                float64\n",
      "Coste por hora                     float64\n",
      "dtype: object\n"
     ]
    }
   ],
   "source": [
    "print(df2.shape)\n",
    "print(df2.dtypes)"
   ]
  },
  {
   "cell_type": "markdown",
   "metadata": {},
   "source": [
    "#### Comprobar de nuevo missing values ####"
   ]
  },
  {
   "cell_type": "code",
   "execution_count": 31,
   "metadata": {},
   "outputs": [
    {
     "name": "stdout",
     "output_type": "stream",
     "text": [
      "Issue Key - 0%\n",
      "Issue summary - 0%\n",
      "Hours - 0%\n",
      "Work date - 0%\n",
      "Username - 0%\n",
      "Activity Name - 0%\n",
      "Issue Type - 0%\n",
      "Issue Status - 0%\n",
      "Project Key - 0%\n",
      "Work Description - 10%\n",
      "Parent Key - 0%\n",
      "Reporter - 0%\n",
      "Billed Hours - 0%\n",
      "Issue Remaining Estimate - 2%\n",
      "AÑO - 0%\n",
      "MES - 0%\n",
      "DIA - 0%\n",
      "Coste por hora - 6%\n"
     ]
    }
   ],
   "source": [
    "for col in df2.columns:\n",
    "    pct_missing = np.mean(df2[col].isnull())\n",
    "    print('{} - {}%'.format(col, round(pct_missing*100)))"
   ]
  },
  {
   "cell_type": "markdown",
   "metadata": {},
   "source": [
    "Ahora, tras comprobar la existencia de algunos missing values correspondientes a cuando la categoría Issue key obtiene el valor \"no access\" (comprobado tra exportar a fichero csv), se procede a eliminar dichas instancias, ya que carecen de datos clasificables de forma temporal o en proyectos."
   ]
  },
  {
   "cell_type": "code",
   "execution_count": 32,
   "metadata": {},
   "outputs": [],
   "source": [
    "df2.drop(df2[(df2['Issue Key'] == 'No access')].index, inplace = True)"
   ]
  },
  {
   "cell_type": "markdown",
   "metadata": {},
   "source": [
    "Ahora, tras asegurarme de que los datos se han ordenado por fecha, voy a crear un nuevo ID que vaya también relacionado con el orden escogido de fecha. De esta forma, será más fácil identificar las tareas realizadas según su ID en función del momento en que fueron realizadas."
   ]
  },
  {
   "cell_type": "code",
   "execution_count": 33,
   "metadata": {},
   "outputs": [
    {
     "data": {
      "text/html": [
       "<div>\n",
       "<style scoped>\n",
       "    .dataframe tbody tr th:only-of-type {\n",
       "        vertical-align: middle;\n",
       "    }\n",
       "\n",
       "    .dataframe tbody tr th {\n",
       "        vertical-align: top;\n",
       "    }\n",
       "\n",
       "    .dataframe thead th {\n",
       "        text-align: right;\n",
       "    }\n",
       "</style>\n",
       "<table border=\"1\" class=\"dataframe\">\n",
       "  <thead>\n",
       "    <tr style=\"text-align: right;\">\n",
       "      <th></th>\n",
       "      <th>Issue Key</th>\n",
       "      <th>Issue summary</th>\n",
       "      <th>Hours</th>\n",
       "      <th>Work date</th>\n",
       "      <th>Username</th>\n",
       "      <th>Activity Name</th>\n",
       "      <th>Issue Type</th>\n",
       "      <th>Issue Status</th>\n",
       "      <th>Project Key</th>\n",
       "      <th>Work Description</th>\n",
       "      <th>Parent Key</th>\n",
       "      <th>Reporter</th>\n",
       "      <th>Billed Hours</th>\n",
       "      <th>Issue Remaining Estimate</th>\n",
       "      <th>AÑO</th>\n",
       "      <th>MES</th>\n",
       "      <th>DIA</th>\n",
       "      <th>Coste por hora</th>\n",
       "    </tr>\n",
       "  </thead>\n",
       "  <tbody>\n",
       "    <tr>\n",
       "      <th>667</th>\n",
       "      <td>POAG-2572</td>\n",
       "      <td>Übernahmw Kontrollschild, Fz und Halter aus Home</td>\n",
       "      <td>0.5</td>\n",
       "      <td>2019-01-01</td>\n",
       "      <td>sebastian</td>\n",
       "      <td>Formular+</td>\n",
       "      <td>Bug</td>\n",
       "      <td>Closed</td>\n",
       "      <td>POAG</td>\n",
       "      <td>added comments</td>\n",
       "      <td>False</td>\n",
       "      <td>valentin</td>\n",
       "      <td>0.5</td>\n",
       "      <td>0.0</td>\n",
       "      <td>2019.0</td>\n",
       "      <td>1.0</td>\n",
       "      <td>1.0</td>\n",
       "      <td>87.5</td>\n",
       "    </tr>\n",
       "    <tr>\n",
       "      <th>724</th>\n",
       "      <td>JUSTIT-984</td>\n",
       "      <td>BACKOFFICE-IT make all the unit tests pass in ...</td>\n",
       "      <td>2.0</td>\n",
       "      <td>2019-01-02</td>\n",
       "      <td>roberto</td>\n",
       "      <td>JustThis IT</td>\n",
       "      <td>New Feature</td>\n",
       "      <td>Closed</td>\n",
       "      <td>JUSTIT</td>\n",
       "      <td>Make all the unit test pass in green in the ID...</td>\n",
       "      <td>False</td>\n",
       "      <td>roberto</td>\n",
       "      <td>2.0</td>\n",
       "      <td>0.0</td>\n",
       "      <td>2019.0</td>\n",
       "      <td>1.0</td>\n",
       "      <td>2.0</td>\n",
       "      <td>75.0</td>\n",
       "    </tr>\n",
       "    <tr>\n",
       "      <th>735</th>\n",
       "      <td>VATRO-1650</td>\n",
       "      <td>Split between clientProduct and XplainProduct</td>\n",
       "      <td>8.0</td>\n",
       "      <td>2019-01-02</td>\n",
       "      <td>pilar</td>\n",
       "      <td>Lucene</td>\n",
       "      <td>New Feature</td>\n",
       "      <td>Closed</td>\n",
       "      <td>VATRO</td>\n",
       "      <td>Implementation</td>\n",
       "      <td>False</td>\n",
       "      <td>pilar</td>\n",
       "      <td>8.0</td>\n",
       "      <td>0.0</td>\n",
       "      <td>2019.0</td>\n",
       "      <td>1.0</td>\n",
       "      <td>2.0</td>\n",
       "      <td>62.5</td>\n",
       "    </tr>\n",
       "    <tr>\n",
       "      <th>714</th>\n",
       "      <td>VARIOUS-474</td>\n",
       "      <td>Maintenance, packages and tool upgrades, POCs ...</td>\n",
       "      <td>4.0</td>\n",
       "      <td>2019-01-02</td>\n",
       "      <td>teo</td>\n",
       "      <td>VARIOUS</td>\n",
       "      <td>Task</td>\n",
       "      <td>In Progress</td>\n",
       "      <td>VARIOUS</td>\n",
       "      <td></td>\n",
       "      <td>False</td>\n",
       "      <td>Mario</td>\n",
       "      <td>4.0</td>\n",
       "      <td>0.0</td>\n",
       "      <td>2019.0</td>\n",
       "      <td>1.0</td>\n",
       "      <td>2.0</td>\n",
       "      <td>62.5</td>\n",
       "    </tr>\n",
       "    <tr>\n",
       "      <th>715</th>\n",
       "      <td>TPOBO-311</td>\n",
       "      <td>App loads old data / show old train data</td>\n",
       "      <td>4.0</td>\n",
       "      <td>2019-01-02</td>\n",
       "      <td>teo</td>\n",
       "      <td>module-ox-5</td>\n",
       "      <td>Bug</td>\n",
       "      <td>Closed</td>\n",
       "      <td>TPOBO</td>\n",
       "      <td></td>\n",
       "      <td>False</td>\n",
       "      <td>robert</td>\n",
       "      <td>4.0</td>\n",
       "      <td>0.0</td>\n",
       "      <td>2019.0</td>\n",
       "      <td>1.0</td>\n",
       "      <td>2.0</td>\n",
       "      <td>62.5</td>\n",
       "    </tr>\n",
       "  </tbody>\n",
       "</table>\n",
       "</div>"
      ],
      "text/plain": [
       "       Issue Key                                      Issue summary  Hours  \\\n",
       "667    POAG-2572   Übernahmw Kontrollschild, Fz und Halter aus Home    0.5   \n",
       "724   JUSTIT-984  BACKOFFICE-IT make all the unit tests pass in ...    2.0   \n",
       "735   VATRO-1650      Split between clientProduct and XplainProduct    8.0   \n",
       "714  VARIOUS-474  Maintenance, packages and tool upgrades, POCs ...    4.0   \n",
       "715    TPOBO-311           App loads old data / show old train data    4.0   \n",
       "\n",
       "     Work date   Username Activity Name   Issue Type Issue Status Project Key  \\\n",
       "667 2019-01-01  sebastian     Formular+          Bug       Closed        POAG   \n",
       "724 2019-01-02    roberto   JustThis IT  New Feature       Closed      JUSTIT   \n",
       "735 2019-01-02      pilar        Lucene  New Feature       Closed       VATRO   \n",
       "714 2019-01-02        teo       VARIOUS         Task  In Progress     VARIOUS   \n",
       "715 2019-01-02        teo   module-ox-5          Bug       Closed       TPOBO   \n",
       "\n",
       "                                      Work Description  Parent Key  Reporter  \\\n",
       "667                                     added comments       False  valentin   \n",
       "724  Make all the unit test pass in green in the ID...       False   roberto   \n",
       "735                                     Implementation       False     pilar   \n",
       "714                                                          False     Mario   \n",
       "715                                                          False    robert   \n",
       "\n",
       "     Billed Hours  Issue Remaining Estimate     AÑO  MES  DIA  Coste por hora  \n",
       "667           0.5                       0.0  2019.0  1.0  1.0            87.5  \n",
       "724           2.0                       0.0  2019.0  1.0  2.0            75.0  \n",
       "735           8.0                       0.0  2019.0  1.0  2.0            62.5  \n",
       "714           4.0                       0.0  2019.0  1.0  2.0            62.5  \n",
       "715           4.0                       0.0  2019.0  1.0  2.0            62.5  "
      ]
     },
     "execution_count": 33,
     "metadata": {},
     "output_type": "execute_result"
    }
   ],
   "source": [
    "df2.head()"
   ]
  },
  {
   "cell_type": "code",
   "execution_count": 34,
   "metadata": {},
   "outputs": [],
   "source": [
    "df2['ID definitiva'] = np.arange(1, len(df2)+1)"
   ]
  },
  {
   "cell_type": "code",
   "execution_count": 35,
   "metadata": {},
   "outputs": [
    {
     "data": {
      "text/html": [
       "<div>\n",
       "<style scoped>\n",
       "    .dataframe tbody tr th:only-of-type {\n",
       "        vertical-align: middle;\n",
       "    }\n",
       "\n",
       "    .dataframe tbody tr th {\n",
       "        vertical-align: top;\n",
       "    }\n",
       "\n",
       "    .dataframe thead th {\n",
       "        text-align: right;\n",
       "    }\n",
       "</style>\n",
       "<table border=\"1\" class=\"dataframe\">\n",
       "  <thead>\n",
       "    <tr style=\"text-align: right;\">\n",
       "      <th></th>\n",
       "      <th>Issue Key</th>\n",
       "      <th>Issue summary</th>\n",
       "      <th>Hours</th>\n",
       "      <th>Work date</th>\n",
       "      <th>Username</th>\n",
       "      <th>Activity Name</th>\n",
       "      <th>Issue Type</th>\n",
       "      <th>Issue Status</th>\n",
       "      <th>Project Key</th>\n",
       "      <th>Work Description</th>\n",
       "      <th>Parent Key</th>\n",
       "      <th>Reporter</th>\n",
       "      <th>Billed Hours</th>\n",
       "      <th>Issue Remaining Estimate</th>\n",
       "      <th>AÑO</th>\n",
       "      <th>MES</th>\n",
       "      <th>DIA</th>\n",
       "      <th>Coste por hora</th>\n",
       "      <th>ID definitiva</th>\n",
       "    </tr>\n",
       "  </thead>\n",
       "  <tbody>\n",
       "    <tr>\n",
       "      <th>667</th>\n",
       "      <td>POAG-2572</td>\n",
       "      <td>Übernahmw Kontrollschild, Fz und Halter aus Home</td>\n",
       "      <td>0.5</td>\n",
       "      <td>2019-01-01</td>\n",
       "      <td>sebastian</td>\n",
       "      <td>Formular+</td>\n",
       "      <td>Bug</td>\n",
       "      <td>Closed</td>\n",
       "      <td>POAG</td>\n",
       "      <td>added comments</td>\n",
       "      <td>False</td>\n",
       "      <td>valentin</td>\n",
       "      <td>0.5</td>\n",
       "      <td>0.0</td>\n",
       "      <td>2019.0</td>\n",
       "      <td>1.0</td>\n",
       "      <td>1.0</td>\n",
       "      <td>87.5</td>\n",
       "      <td>1</td>\n",
       "    </tr>\n",
       "    <tr>\n",
       "      <th>724</th>\n",
       "      <td>JUSTIT-984</td>\n",
       "      <td>BACKOFFICE-IT make all the unit tests pass in ...</td>\n",
       "      <td>2.0</td>\n",
       "      <td>2019-01-02</td>\n",
       "      <td>roberto</td>\n",
       "      <td>JustThis IT</td>\n",
       "      <td>New Feature</td>\n",
       "      <td>Closed</td>\n",
       "      <td>JUSTIT</td>\n",
       "      <td>Make all the unit test pass in green in the ID...</td>\n",
       "      <td>False</td>\n",
       "      <td>roberto</td>\n",
       "      <td>2.0</td>\n",
       "      <td>0.0</td>\n",
       "      <td>2019.0</td>\n",
       "      <td>1.0</td>\n",
       "      <td>2.0</td>\n",
       "      <td>75.0</td>\n",
       "      <td>2</td>\n",
       "    </tr>\n",
       "    <tr>\n",
       "      <th>735</th>\n",
       "      <td>VATRO-1650</td>\n",
       "      <td>Split between clientProduct and XplainProduct</td>\n",
       "      <td>8.0</td>\n",
       "      <td>2019-01-02</td>\n",
       "      <td>pilar</td>\n",
       "      <td>Lucene</td>\n",
       "      <td>New Feature</td>\n",
       "      <td>Closed</td>\n",
       "      <td>VATRO</td>\n",
       "      <td>Implementation</td>\n",
       "      <td>False</td>\n",
       "      <td>pilar</td>\n",
       "      <td>8.0</td>\n",
       "      <td>0.0</td>\n",
       "      <td>2019.0</td>\n",
       "      <td>1.0</td>\n",
       "      <td>2.0</td>\n",
       "      <td>62.5</td>\n",
       "      <td>3</td>\n",
       "    </tr>\n",
       "    <tr>\n",
       "      <th>714</th>\n",
       "      <td>VARIOUS-474</td>\n",
       "      <td>Maintenance, packages and tool upgrades, POCs ...</td>\n",
       "      <td>4.0</td>\n",
       "      <td>2019-01-02</td>\n",
       "      <td>teo</td>\n",
       "      <td>VARIOUS</td>\n",
       "      <td>Task</td>\n",
       "      <td>In Progress</td>\n",
       "      <td>VARIOUS</td>\n",
       "      <td></td>\n",
       "      <td>False</td>\n",
       "      <td>Mario</td>\n",
       "      <td>4.0</td>\n",
       "      <td>0.0</td>\n",
       "      <td>2019.0</td>\n",
       "      <td>1.0</td>\n",
       "      <td>2.0</td>\n",
       "      <td>62.5</td>\n",
       "      <td>4</td>\n",
       "    </tr>\n",
       "    <tr>\n",
       "      <th>715</th>\n",
       "      <td>TPOBO-311</td>\n",
       "      <td>App loads old data / show old train data</td>\n",
       "      <td>4.0</td>\n",
       "      <td>2019-01-02</td>\n",
       "      <td>teo</td>\n",
       "      <td>module-ox-5</td>\n",
       "      <td>Bug</td>\n",
       "      <td>Closed</td>\n",
       "      <td>TPOBO</td>\n",
       "      <td></td>\n",
       "      <td>False</td>\n",
       "      <td>robert</td>\n",
       "      <td>4.0</td>\n",
       "      <td>0.0</td>\n",
       "      <td>2019.0</td>\n",
       "      <td>1.0</td>\n",
       "      <td>2.0</td>\n",
       "      <td>62.5</td>\n",
       "      <td>5</td>\n",
       "    </tr>\n",
       "  </tbody>\n",
       "</table>\n",
       "</div>"
      ],
      "text/plain": [
       "       Issue Key                                      Issue summary  Hours  \\\n",
       "667    POAG-2572   Übernahmw Kontrollschild, Fz und Halter aus Home    0.5   \n",
       "724   JUSTIT-984  BACKOFFICE-IT make all the unit tests pass in ...    2.0   \n",
       "735   VATRO-1650      Split between clientProduct and XplainProduct    8.0   \n",
       "714  VARIOUS-474  Maintenance, packages and tool upgrades, POCs ...    4.0   \n",
       "715    TPOBO-311           App loads old data / show old train data    4.0   \n",
       "\n",
       "     Work date   Username Activity Name   Issue Type Issue Status Project Key  \\\n",
       "667 2019-01-01  sebastian     Formular+          Bug       Closed        POAG   \n",
       "724 2019-01-02    roberto   JustThis IT  New Feature       Closed      JUSTIT   \n",
       "735 2019-01-02      pilar        Lucene  New Feature       Closed       VATRO   \n",
       "714 2019-01-02        teo       VARIOUS         Task  In Progress     VARIOUS   \n",
       "715 2019-01-02        teo   module-ox-5          Bug       Closed       TPOBO   \n",
       "\n",
       "                                      Work Description  Parent Key  Reporter  \\\n",
       "667                                     added comments       False  valentin   \n",
       "724  Make all the unit test pass in green in the ID...       False   roberto   \n",
       "735                                     Implementation       False     pilar   \n",
       "714                                                          False     Mario   \n",
       "715                                                          False    robert   \n",
       "\n",
       "     Billed Hours  Issue Remaining Estimate     AÑO  MES  DIA  Coste por hora  \\\n",
       "667           0.5                       0.0  2019.0  1.0  1.0            87.5   \n",
       "724           2.0                       0.0  2019.0  1.0  2.0            75.0   \n",
       "735           8.0                       0.0  2019.0  1.0  2.0            62.5   \n",
       "714           4.0                       0.0  2019.0  1.0  2.0            62.5   \n",
       "715           4.0                       0.0  2019.0  1.0  2.0            62.5   \n",
       "\n",
       "     ID definitiva  \n",
       "667              1  \n",
       "724              2  \n",
       "735              3  \n",
       "714              4  \n",
       "715              5  "
      ]
     },
     "execution_count": 35,
     "metadata": {},
     "output_type": "execute_result"
    }
   ],
   "source": [
    "df2.head()"
   ]
  },
  {
   "cell_type": "markdown",
   "metadata": {},
   "source": [
    "## FALTA EL COSTE POR HORA DE ALGUNOS EMPLEADOS ##"
   ]
  },
  {
   "cell_type": "code",
   "execution_count": 36,
   "metadata": {},
   "outputs": [
    {
     "name": "stdout",
     "output_type": "stream",
     "text": [
      "Issue Key - 0%\n",
      "Issue summary - 0%\n",
      "Hours - 0%\n",
      "Work date - 0%\n",
      "Username - 0%\n",
      "Activity Name - 0%\n",
      "Issue Type - 0%\n",
      "Issue Status - 0%\n",
      "Project Key - 0%\n",
      "Work Description - 10%\n",
      "Parent Key - 0%\n",
      "Reporter - 0%\n",
      "Billed Hours - 0%\n",
      "Issue Remaining Estimate - 2%\n",
      "AÑO - 0%\n",
      "MES - 0%\n",
      "DIA - 0%\n",
      "Coste por hora - 6%\n",
      "ID definitiva - 0%\n"
     ]
    }
   ],
   "source": [
    "for col in df2.columns:\n",
    "    pct_missing = np.mean(df2[col].isnull())\n",
    "    print('{} - {}%'.format(col, round(pct_missing*100)))"
   ]
  },
  {
   "cell_type": "code",
   "execution_count": 37,
   "metadata": {},
   "outputs": [],
   "source": [
    "mediacoste = 80\n",
    "df2['Coste por hora'] = df2['Coste por hora'].fillna(mediacoste)"
   ]
  },
  {
   "cell_type": "code",
   "execution_count": 38,
   "metadata": {},
   "outputs": [
    {
     "name": "stdout",
     "output_type": "stream",
     "text": [
      "Issue Key - 0%\n",
      "Issue summary - 0%\n",
      "Hours - 0%\n",
      "Work date - 0%\n",
      "Username - 0%\n",
      "Activity Name - 0%\n",
      "Issue Type - 0%\n",
      "Issue Status - 0%\n",
      "Project Key - 0%\n",
      "Work Description - 10%\n",
      "Parent Key - 0%\n",
      "Reporter - 0%\n",
      "Billed Hours - 0%\n",
      "Issue Remaining Estimate - 2%\n",
      "AÑO - 0%\n",
      "MES - 0%\n",
      "DIA - 0%\n",
      "Coste por hora - 0%\n",
      "ID definitiva - 0%\n"
     ]
    }
   ],
   "source": [
    "for col in df2.columns:\n",
    "    pct_missing = np.mean(df2[col].isnull())\n",
    "    print('{} - {}%'.format(col, round(pct_missing*100)))"
   ]
  },
  {
   "cell_type": "markdown",
   "metadata": {},
   "source": [
    "Ahora se extrae el csv resultante y se puede introducir en Power BI para realizar una visualización de los datos limpios"
   ]
  },
  {
   "cell_type": "code",
   "execution_count": 40,
   "metadata": {},
   "outputs": [],
   "source": [
    "#df2.to_csv('datoscargadosylimpios.csv', sep=';')"
   ]
  },
  {
   "cell_type": "markdown",
   "metadata": {},
   "source": [
    "Ahora, para ver el coste de cada \"task\" se va a realizar una transformación más.\n",
    "Se crea una nueva variable que es el producto de las variables \"Billed Hours\" y \"Coste por hora\"."
   ]
  },
  {
   "cell_type": "code",
   "execution_count": 41,
   "metadata": {},
   "outputs": [],
   "source": [
    "df2['Coste tarea'] = df2['Billed Hours']*df2['Coste por hora']"
   ]
  },
  {
   "cell_type": "code",
   "execution_count": 42,
   "metadata": {},
   "outputs": [
    {
     "name": "stdout",
     "output_type": "stream",
     "text": [
      "Issue Key - 0%\n",
      "Issue summary - 0%\n",
      "Hours - 0%\n",
      "Work date - 0%\n",
      "Username - 0%\n",
      "Activity Name - 0%\n",
      "Issue Type - 0%\n",
      "Issue Status - 0%\n",
      "Project Key - 0%\n",
      "Work Description - 10%\n",
      "Parent Key - 0%\n",
      "Reporter - 0%\n",
      "Billed Hours - 0%\n",
      "Issue Remaining Estimate - 2%\n",
      "AÑO - 0%\n",
      "MES - 0%\n",
      "DIA - 0%\n",
      "Coste por hora - 0%\n",
      "ID definitiva - 0%\n",
      "Coste tarea - 0%\n"
     ]
    }
   ],
   "source": [
    "for col in df2.columns:\n",
    "    pct_missing = np.mean(df2[col].isnull())\n",
    "    print('{} - {}%'.format(col, round(pct_missing*100)))"
   ]
  },
  {
   "cell_type": "markdown",
   "metadata": {},
   "source": [
    "# Minería de datos"
   ]
  },
  {
   "cell_type": "markdown",
   "metadata": {},
   "source": [
    "Ahora que se ha llevado a cabo la limpieza del dataset y la transformación de algunas variables, se procede a realizar un breve análisis de correlación de las variables que componen en este momento el conjunto de los datos"
   ]
  },
  {
   "cell_type": "markdown",
   "metadata": {},
   "source": [
    "Se tiene como idea crear un modelo que explique la variable correspondiente al número de horas "
   ]
  },
  {
   "cell_type": "code",
   "execution_count": 43,
   "metadata": {},
   "outputs": [],
   "source": [
    "import pandas as pd\n",
    "import io\n",
    "import matplotlib.pyplot as plt\n",
    "import numpy as np\n",
    "import itertools\n",
    "import seaborn as sns\n",
    "from sklearn.model_selection import train_test_split"
   ]
  },
  {
   "cell_type": "markdown",
   "metadata": {},
   "source": [
    "En primer lugar, se va a dividir el conjunto en dos subconjuntos, uno para entrenar el modelo y otro para test"
   ]
  },
  {
   "cell_type": "code",
   "execution_count": 44,
   "metadata": {},
   "outputs": [],
   "source": [
    "train, test = train_test_split(df2, random_state = 0)"
   ]
  },
  {
   "cell_type": "code",
   "execution_count": 45,
   "metadata": {},
   "outputs": [
    {
     "name": "stdout",
     "output_type": "stream",
     "text": [
      "(60810, 20)\n",
      "(20271, 20)\n"
     ]
    }
   ],
   "source": [
    "print(train.shape)\n",
    "print(test.shape)"
   ]
  },
  {
   "cell_type": "markdown",
   "metadata": {},
   "source": [
    "Ahora es importante eliminar la variable objetivo (Billed Hours) del subconjunto de test"
   ]
  },
  {
   "cell_type": "code",
   "execution_count": 46,
   "metadata": {},
   "outputs": [],
   "source": [
    "test = test.drop('Billed Hours', axis = 1)"
   ]
  },
  {
   "cell_type": "markdown",
   "metadata": {},
   "source": [
    "También se eliminan las variables que tienen valores nulos para los que no se ha encontrado tratamiento, tal y como se especifica en el punto 4 de la memoria"
   ]
  },
  {
   "cell_type": "code",
   "execution_count": 47,
   "metadata": {},
   "outputs": [],
   "source": [
    "test = test.drop('Work Description', axis = 1)\n",
    "train = train.drop('Work Description', axis = 1)\n",
    "test = test.drop('Issue Remaining Estimate', axis = 1)\n",
    "train = train.drop('Issue Remaining Estimate', axis = 1)"
   ]
  },
  {
   "cell_type": "code",
   "execution_count": 48,
   "metadata": {},
   "outputs": [
    {
     "data": {
      "text/plain": [
       "Issue Key         0\n",
       "Issue summary     0\n",
       "Hours             0\n",
       "Work date         0\n",
       "Username          0\n",
       "Activity Name     0\n",
       "Issue Type        0\n",
       "Issue Status      0\n",
       "Project Key       0\n",
       "Parent Key        0\n",
       "Reporter          0\n",
       "Billed Hours      0\n",
       "AÑO               0\n",
       "MES               0\n",
       "DIA               0\n",
       "Coste por hora    0\n",
       "ID definitiva     0\n",
       "Coste tarea       0\n",
       "dtype: int64"
      ]
     },
     "execution_count": 48,
     "metadata": {},
     "output_type": "execute_result"
    }
   ],
   "source": [
    "pd.isnull(train).sum()"
   ]
  },
  {
   "cell_type": "code",
   "execution_count": 49,
   "metadata": {},
   "outputs": [
    {
     "data": {
      "text/plain": [
       "Issue Key         0\n",
       "Issue summary     0\n",
       "Hours             0\n",
       "Work date         0\n",
       "Username          0\n",
       "Activity Name     0\n",
       "Issue Type        0\n",
       "Issue Status      0\n",
       "Project Key       0\n",
       "Parent Key        0\n",
       "Reporter          0\n",
       "AÑO               0\n",
       "MES               0\n",
       "DIA               0\n",
       "Coste por hora    0\n",
       "ID definitiva     0\n",
       "Coste tarea       0\n",
       "dtype: int64"
      ]
     },
     "execution_count": 49,
     "metadata": {},
     "output_type": "execute_result"
    }
   ],
   "source": [
    "pd.isnull(test).sum()"
   ]
  },
  {
   "cell_type": "markdown",
   "metadata": {},
   "source": [
    "Tras comprobar la ausencia de valores nulos en ambos subconjuntos, se puede proceder a hacer un análisis de la correlación de las variables, que se va a llevar a cabo en el dataset de entrenamiento, teniendo siempre en mente la variable objetivo \"Billed hours\""
   ]
  },
  {
   "cell_type": "code",
   "execution_count": 50,
   "metadata": {},
   "outputs": [
    {
     "data": {
      "text/plain": [
       "<AxesSubplot:>"
      ]
     },
     "execution_count": 50,
     "metadata": {},
     "output_type": "execute_result"
    },
    {
     "data": {
      "image/png": "[encoded data removed]",
      "text/plain": [
       "<Figure size 864x576 with 2 Axes>"
      ]
     },
     "metadata": {},
     "output_type": "display_data"
    }
   ],
   "source": [
    "import seaborn as sns\n",
    "\n",
    "sns.set()\n",
    "sns.heatmap(train.corr(), square = True, annot = True)"
   ]
  },
  {
   "cell_type": "markdown",
   "metadata": {},
   "source": [
    "Esta tabla muestra la correlación estadística existente entre las variables numéricas del set de datos.\n",
    "El nivel de correlación de las variables con la objetivo es muy bajo, por lo que es necesario volver al paso anterior del proceso KDD y aplicar nuevas transformaciones que permitan llgar a un modelo de datos en el que las variables puedan explicarse unas a otras.\n",
    "Para ello, se procede a reorganizar los datos, pero se va a llevar a cabo mediante Power BI, tras un proceso ETL.\n",
    "\n",
    "Se continúa con la fase de minería en un nuevo archivo al que se importa un nuevo dataframe extraído de Power BI con las transformaciones pertinentes."
   ]
  }
 ],
 "metadata": {
  "colab": {
   "authorship_tag": "ABX9TyNrCLGL8xcmkUYjQHesMU0Y",
   "provenance": []
  },
  "gpuClass": "standard",
  "kernelspec": {
   "display_name": "Python 3 (ipykernel)",
   "language": "python",
   "name": "python3"
  },
  "language_info": {
   "codemirror_mode": {
    "name": "ipython",
    "version": 3
   },
   "file_extension": ".py",
   "mimetype": "text/x-python",
   "name": "python",
   "nbconvert_exporter": "python",
   "pygments_lexer": "ipython3",
   "version": "3.10.4"
  }
 },
 "nbformat": 4,
 "nbformat_minor": 4
}
